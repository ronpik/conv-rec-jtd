{
 "cells": [
  {
   "cell_type": "code",
   "execution_count": 2,
   "metadata": {
    "collapsed": true
   },
   "outputs": [],
   "source": [
    "import pandas as pd"
   ]
  },
  {
   "cell_type": "markdown",
   "source": [
    " # Explore Basic Statisctics\n",
    " Given a dataset explor some statistics to understand better the challenges."
   ],
   "metadata": {
    "collapsed": false
   }
  },
  {
   "cell_type": "markdown",
   "source": [
    "load a dataset with the agreed format."
   ],
   "metadata": {
    "collapsed": false,
    "pycharm": {
     "name": "#%% md\n"
    }
   }
  },
  {
   "cell_type": "code",
   "execution_count": 27,
   "outputs": [
    {
     "data": {
      "text/plain": "   conv_id  message_id  parent_id  \\\n0  conv_id  message_id  parent_id   \n1        0     do6dyz3     75i1t3   \n2        0     do6pyq9    do6if7d   \n3        0     do6q0gq     75i1t3   \n4        0     do6k0mz     75i1t3   \n\n                                                text  \\\n0                                            content   \n1  The problem is you think of everything in too ...   \n2  Sorry fettoba, your comment has been removed: ...   \n3  Sorry ehcaipf, your submission has been remove...   \n4  I mean, one might say that in a perfect world,...   \n\n                                             cleaned  user_id  \n0                                    cleaned_content  user_id  \n1  the problem is you think of everything in too ...      323  \n2  sorry fettoba , your comment has been removed ...     2533  \n3  sorry ehcaipf , your submission has been remov...     2533  \n4  i mean , one might say that in a perfect world...     4670  ",
      "text/html": "<div>\n<style scoped>\n    .dataframe tbody tr th:only-of-type {\n        vertical-align: middle;\n    }\n\n    .dataframe tbody tr th {\n        vertical-align: top;\n    }\n\n    .dataframe thead th {\n        text-align: right;\n    }\n</style>\n<table border=\"1\" class=\"dataframe\">\n  <thead>\n    <tr style=\"text-align: right;\">\n      <th></th>\n      <th>conv_id</th>\n      <th>message_id</th>\n      <th>parent_id</th>\n      <th>text</th>\n      <th>cleaned</th>\n      <th>user_id</th>\n    </tr>\n  </thead>\n  <tbody>\n    <tr>\n      <th>0</th>\n      <td>conv_id</td>\n      <td>message_id</td>\n      <td>parent_id</td>\n      <td>content</td>\n      <td>cleaned_content</td>\n      <td>user_id</td>\n    </tr>\n    <tr>\n      <th>1</th>\n      <td>0</td>\n      <td>do6dyz3</td>\n      <td>75i1t3</td>\n      <td>The problem is you think of everything in too ...</td>\n      <td>the problem is you think of everything in too ...</td>\n      <td>323</td>\n    </tr>\n    <tr>\n      <th>2</th>\n      <td>0</td>\n      <td>do6pyq9</td>\n      <td>do6if7d</td>\n      <td>Sorry fettoba, your comment has been removed: ...</td>\n      <td>sorry fettoba , your comment has been removed ...</td>\n      <td>2533</td>\n    </tr>\n    <tr>\n      <th>3</th>\n      <td>0</td>\n      <td>do6q0gq</td>\n      <td>75i1t3</td>\n      <td>Sorry ehcaipf, your submission has been remove...</td>\n      <td>sorry ehcaipf , your submission has been remov...</td>\n      <td>2533</td>\n    </tr>\n    <tr>\n      <th>4</th>\n      <td>0</td>\n      <td>do6k0mz</td>\n      <td>75i1t3</td>\n      <td>I mean, one might say that in a perfect world,...</td>\n      <td>i mean , one might say that in a perfect world...</td>\n      <td>4670</td>\n    </tr>\n  </tbody>\n</table>\n</div>"
     },
     "execution_count": 27,
     "metadata": {},
     "output_type": "execute_result"
    }
   ],
   "source": [
    "column_names = [\"conv_id\", \"message_id\", \"parent_id\", \"text\", \"cleaned\", \"user_id\"]\n",
    "\n",
    "# path = \"twitter.data\"\n",
    "path = \"cmv-frequent-recsys.tsv\"\n",
    "us_df = pd.read_csv(path, sep=\"\\t\", names=column_names)\n",
    "us_df = us_df[us_df[\"user_id\"] != \"NO_USER\"]\n",
    "us_df.head()"
   ],
   "metadata": {
    "collapsed": false,
    "pycharm": {
     "name": "#%%\n"
    }
   }
  },
  {
   "cell_type": "markdown",
   "source": [
    "Group by user id and get statistics about messages per user."
   ],
   "metadata": {
    "collapsed": false
   }
  },
  {
   "cell_type": "code",
   "execution_count": 28,
   "outputs": [
    {
     "data": {
      "text/plain": "count    3654.000000\nmean       13.685824\nstd        33.603945\nmin         1.000000\n25%         1.000000\n50%         4.000000\n75%        13.000000\nmax       679.000000\nName: message_id, dtype: float64"
     },
     "execution_count": 28,
     "metadata": {},
     "output_type": "execute_result"
    }
   ],
   "source": [
    "grouped_users = us_df.groupby(\"user_id\")\n",
    "grouped_users[\"message_id\"].nunique().describe()"
   ],
   "metadata": {
    "collapsed": false,
    "pycharm": {
     "name": "#%%\n"
    }
   }
  },
  {
   "cell_type": "markdown",
   "source": [
    "Group by user id and get statistics about different conversations per user."
   ],
   "metadata": {
    "collapsed": false
   }
  },
  {
   "cell_type": "code",
   "execution_count": 29,
   "outputs": [
    {
     "data": {
      "text/plain": "count    3654.000000\nmean        4.711275\nstd        12.030216\nmin         1.000000\n25%         1.000000\n50%         2.000000\n75%         4.000000\nmax       268.000000\nName: conv_id, dtype: float64"
     },
     "execution_count": 29,
     "metadata": {},
     "output_type": "execute_result"
    }
   ],
   "source": [
    "users_counts = grouped_users[\"conv_id\"].nunique()\n",
    "users_counts.describe()"
   ],
   "metadata": {
    "collapsed": false,
    "pycharm": {
     "name": "#%%\n"
    }
   }
  },
  {
   "cell_type": "markdown",
   "source": [
    "top 10 users who participated the most in differen conversations."
   ],
   "metadata": {
    "collapsed": false
   }
  },
  {
   "cell_type": "code",
   "execution_count": 30,
   "outputs": [
    {
     "data": {
      "text/plain": "user_id\n2533     268\n20315    168\n31172    167\n12891    165\n30438    142\n10032    140\n11757    125\n35738    121\n9653     119\n3040     118\nName: conv_id, dtype: int64"
     },
     "execution_count": 30,
     "metadata": {},
     "output_type": "execute_result"
    }
   ],
   "source": [
    "users_counts.nlargest(10)\n"
   ],
   "metadata": {
    "collapsed": false,
    "pycharm": {
     "name": "#%%\n"
    }
   }
  },
  {
   "cell_type": "markdown",
   "source": [
    "Group by conversation ID and get statistics about messages per conversation"
   ],
   "metadata": {
    "collapsed": false
   }
  },
  {
   "cell_type": "code",
   "execution_count": 31,
   "outputs": [
    {
     "data": {
      "text/plain": "count    1249.000000\nmean       40.038431\nstd        31.480154\nmin         1.000000\n25%        18.000000\n50%        31.000000\n75%        52.000000\nmax       262.000000\nName: message_id, dtype: float64"
     },
     "execution_count": 31,
     "metadata": {},
     "output_type": "execute_result"
    }
   ],
   "source": [
    "grouped_conversations = us_df.groupby(\"conv_id\")\n",
    "conv_sizes = grouped_conversations[\"message_id\"].nunique()\n",
    "conv_sizes.describe()"
   ],
   "metadata": {
    "collapsed": false,
    "pycharm": {
     "name": "#%%\n"
    }
   }
  },
  {
   "cell_type": "markdown",
   "source": [
    "Group by conversation ID and get statistics about users per conversation"
   ],
   "metadata": {
    "collapsed": false
   }
  },
  {
   "cell_type": "code",
   "execution_count": 32,
   "outputs": [
    {
     "data": {
      "text/plain": "count    1249.000000\nmean       13.783026\nstd         6.865477\nmin         1.000000\n25%         9.000000\n50%        13.000000\n75%        17.000000\nmax        53.000000\nName: user_id, dtype: float64"
     },
     "execution_count": 32,
     "metadata": {},
     "output_type": "execute_result"
    }
   ],
   "source": [
    "conv_participants_count = us_df.groupby(\"conv_id\")[\"user_id\"].nunique()\n",
    "conv_participants_count.describe()"
   ],
   "metadata": {
    "collapsed": false,
    "pycharm": {
     "name": "#%%\n"
    }
   }
  },
  {
   "cell_type": "markdown",
   "source": [
    "Top 10 conversations with the largest number of users."
   ],
   "metadata": {
    "collapsed": false
   }
  },
  {
   "cell_type": "code",
   "execution_count": 33,
   "outputs": [
    {
     "data": {
      "text/plain": "conv_id\n436     53\n1198    45\n697     43\n298     42\n641     40\n72      39\n1231    38\n520     37\n730     37\n944     37\nName: user_id, dtype: int64"
     },
     "execution_count": 33,
     "metadata": {},
     "output_type": "execute_result"
    }
   ],
   "source": [
    "conv_participants_count.nlargest(10)\n",
    "\n",
    "\n",
    "\n",
    "\n"
   ],
   "metadata": {
    "collapsed": false,
    "pycharm": {
     "name": "#%%\n"
    }
   }
  },
  {
   "cell_type": "code",
   "execution_count": null,
   "outputs": [],
   "source": [
    "\n"
   ],
   "metadata": {
    "collapsed": false,
    "pycharm": {
     "name": "#%%\n"
    }
   }
  }
 ],
 "metadata": {
  "kernelspec": {
   "display_name": "Python 3",
   "language": "python",
   "name": "python3"
  },
  "language_info": {
   "codemirror_mode": {
    "name": "ipython",
    "version": 2
   },
   "file_extension": ".py",
   "mimetype": "text/x-python",
   "name": "python",
   "nbconvert_exporter": "python",
   "pygments_lexer": "ipython2",
   "version": "2.7.6"
  }
 },
 "nbformat": 4,
 "nbformat_minor": 0
}