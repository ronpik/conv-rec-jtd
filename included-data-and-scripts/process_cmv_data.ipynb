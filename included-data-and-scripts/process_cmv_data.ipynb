{
 "cells": [
  {
   "cell_type": "code",
   "execution_count": 1,
   "metadata": {
    "collapsed": true
   },
   "outputs": [],
   "source": [
    "from operator import itemgetter\n",
    "\n",
    "import pandas as pd\n",
    "import tqdm\n",
    "import os"
   ]
  },
  {
   "cell_type": "markdown",
   "source": [
    "# Build CMV dataset with full conversations"
   ],
   "metadata": {
    "collapsed": false,
    "pycharm": {
     "name": "#%% md\n"
    }
   }
  },
  {
   "cell_type": "code",
   "execution_count": null,
   "outputs": [],
   "source": [
    "# load the data\n",
    "\n",
    "cmv_path = r\".\\cmv_recsys-project.tsv\"\n",
    "df = pd.read_csv(cmv_path, sep='\\t')\n",
    "df.head()"
   ],
   "metadata": {
    "collapsed": false,
    "pycharm": {
     "name": "#%%\n"
    }
   }
  },
  {
   "cell_type": "code",
   "execution_count": 3,
   "outputs": [
    {
     "data": {
      "text/plain": "   conv_id message_id parent_id  \\\n0        3    dq95b41    7f30fw   \n1        3    dqa7q3h   dqa6myb   \n2        3    dqafrpu   dqa6ckm   \n3        3    dqaow6z   dqaaaec   \n4        3    dq9qql9   dq96i1n   \n\n                                             content  \\\n0  Bitcoin gets hyped all the time here, and it's...   \n1  Dude, unless you're actually reading financial...   \n2  Biotechs with drugs in clinical trials are *al...   \n3  Why would anyone spend a currency that constan...   \n4  We're really far from any kind of final Bubble...   \n\n                                     cleaned_content               user_id  \n0  bitcoin gets hyped all the time here , and it'...             Bodoblock  \n1  dude , unless you're actually reading financia...             Bodoblock  \n2  biotechs with drugs in clinical trials are * a...  DoodleVnTaintschtain  \n3  why would anyone spend a currency that constan...            Dopecheez-  \n4  we're really far from any kind of final bubble...         Experience111  ",
      "text/html": "<div>\n<style scoped>\n    .dataframe tbody tr th:only-of-type {\n        vertical-align: middle;\n    }\n\n    .dataframe tbody tr th {\n        vertical-align: top;\n    }\n\n    .dataframe thead th {\n        text-align: right;\n    }\n</style>\n<table border=\"1\" class=\"dataframe\">\n  <thead>\n    <tr style=\"text-align: right;\">\n      <th></th>\n      <th>conv_id</th>\n      <th>message_id</th>\n      <th>parent_id</th>\n      <th>content</th>\n      <th>cleaned_content</th>\n      <th>user_id</th>\n    </tr>\n  </thead>\n  <tbody>\n    <tr>\n      <th>0</th>\n      <td>3</td>\n      <td>dq95b41</td>\n      <td>7f30fw</td>\n      <td>Bitcoin gets hyped all the time here, and it's...</td>\n      <td>bitcoin gets hyped all the time here , and it'...</td>\n      <td>Bodoblock</td>\n    </tr>\n    <tr>\n      <th>1</th>\n      <td>3</td>\n      <td>dqa7q3h</td>\n      <td>dqa6myb</td>\n      <td>Dude, unless you're actually reading financial...</td>\n      <td>dude , unless you're actually reading financia...</td>\n      <td>Bodoblock</td>\n    </tr>\n    <tr>\n      <th>2</th>\n      <td>3</td>\n      <td>dqafrpu</td>\n      <td>dqa6ckm</td>\n      <td>Biotechs with drugs in clinical trials are *al...</td>\n      <td>biotechs with drugs in clinical trials are * a...</td>\n      <td>DoodleVnTaintschtain</td>\n    </tr>\n    <tr>\n      <th>3</th>\n      <td>3</td>\n      <td>dqaow6z</td>\n      <td>dqaaaec</td>\n      <td>Why would anyone spend a currency that constan...</td>\n      <td>why would anyone spend a currency that constan...</td>\n      <td>Dopecheez-</td>\n    </tr>\n    <tr>\n      <th>4</th>\n      <td>3</td>\n      <td>dq9qql9</td>\n      <td>dq96i1n</td>\n      <td>We're really far from any kind of final Bubble...</td>\n      <td>we're really far from any kind of final bubble...</td>\n      <td>Experience111</td>\n    </tr>\n  </tbody>\n</table>\n</div>"
     },
     "execution_count": 3,
     "metadata": {},
     "output_type": "execute_result"
    }
   ],
   "source": [
    "# df[\"user_id\"] = df[\"timestamp\"]\n",
    "# del df[\"timestamp\"]\n",
    "# df.head()"
   ],
   "metadata": {
    "collapsed": false,
    "pycharm": {
     "name": "#%%\n"
    }
   }
  },
  {
   "cell_type": "markdown",
   "source": [
    "### count users\n"
   ],
   "metadata": {
    "collapsed": false,
    "pycharm": {
     "name": "#%% md\n"
    }
   }
  },
  {
   "cell_type": "code",
   "execution_count": null,
   "outputs": [],
   "source": [
    "from collections import Counter\n",
    "\n",
    "users_counts = df.groupby(\"user_id\")[\"conv_id\"].nunique()\n",
    "users_counts.describe()"
   ],
   "metadata": {
    "collapsed": false,
    "pycharm": {
     "name": "#%%\n"
    }
   }
  },
  {
   "cell_type": "markdown",
   "source": [
    "watch 10 most frequent users"
   ],
   "metadata": {
    "collapsed": false
   }
  },
  {
   "cell_type": "code",
   "execution_count": null,
   "outputs": [],
   "source": [
    "users_counts.nlargest(10)"
   ],
   "metadata": {
    "collapsed": false,
    "pycharm": {
     "name": "#%%\n"
    }
   }
  },
  {
   "cell_type": "markdown",
   "source": [
    "## Filter irrelevant users\n",
    "As we can see, the top 2 users are a mark for deleted users and a bot. We filter them."
   ],
   "metadata": {
    "collapsed": false,
    "pycharm": {
     "name": "#%% md\n"
    }
   }
  },
  {
   "cell_type": "code",
   "execution_count": 6,
   "outputs": [
    {
     "data": {
      "text/plain": "user_id\nAnsuz07           1781\ncdb03b            1239\nPreacherJudge      989\nIswallowedafly     974\ngarnteller         887\nName: conv_id, dtype: int64"
     },
     "execution_count": 6,
     "metadata": {},
     "output_type": "execute_result"
    }
   ],
   "source": [
    "ignore_mask = (df[\"user_id\"] == \"[deleted]\") | (df[\"user_id\"] == \"DeltaBot\")\n",
    "ignore_df = df[ignore_mask]\n",
    "df = df[~ignore_mask]\n",
    "\n",
    "users_counts = df.groupby(\"user_id\")[\"conv_id\"].nunique()\n",
    "users_counts.nlargest(5)"
   ],
   "metadata": {
    "collapsed": false,
    "pycharm": {
     "name": "#%%\n"
    }
   }
  },
  {
   "cell_type": "markdown",
   "source": [
    "It is clear that most of the users occurs at most twice. But, we would like to have a compact dataset\n",
    "that will have a distribution with users that participate a bit more in conversations. For this we group the users\n",
    "by frequency and then sample randomly from each group of users.\n"
   ],
   "metadata": {
    "collapsed": false,
    "pycharm": {
     "name": "#%% md\n"
    }
   }
  },
  {
   "cell_type": "code",
   "execution_count": 7,
   "outputs": [
    {
     "data": {
      "text/plain": "        conv_id               user_id  user_conv_count  user_conv_count_norm\n0             3             Bodoblock               38                    10\n2             3  DoodleVnTaintschtain               17                    10\n3             3            Dopecheez-                6                     6\n4             3         Experience111                3                     3\n6             3                Mtl325               12                    10\n...         ...                   ...              ...                   ...\n674654    16301             tinyboat-                1                     1\n674657    16301             verronaut               22                    10\n674660    16304                MNGrrl               40                    10\n674666    16304                 MystK                8                     8\n674669    16304             Snorrrlax              249                    10\n\n[222056 rows x 4 columns]",
      "text/html": "<div>\n<style scoped>\n    .dataframe tbody tr th:only-of-type {\n        vertical-align: middle;\n    }\n\n    .dataframe tbody tr th {\n        vertical-align: top;\n    }\n\n    .dataframe thead th {\n        text-align: right;\n    }\n</style>\n<table border=\"1\" class=\"dataframe\">\n  <thead>\n    <tr style=\"text-align: right;\">\n      <th></th>\n      <th>conv_id</th>\n      <th>user_id</th>\n      <th>user_conv_count</th>\n      <th>user_conv_count_norm</th>\n    </tr>\n  </thead>\n  <tbody>\n    <tr>\n      <th>0</th>\n      <td>3</td>\n      <td>Bodoblock</td>\n      <td>38</td>\n      <td>10</td>\n    </tr>\n    <tr>\n      <th>2</th>\n      <td>3</td>\n      <td>DoodleVnTaintschtain</td>\n      <td>17</td>\n      <td>10</td>\n    </tr>\n    <tr>\n      <th>3</th>\n      <td>3</td>\n      <td>Dopecheez-</td>\n      <td>6</td>\n      <td>6</td>\n    </tr>\n    <tr>\n      <th>4</th>\n      <td>3</td>\n      <td>Experience111</td>\n      <td>3</td>\n      <td>3</td>\n    </tr>\n    <tr>\n      <th>6</th>\n      <td>3</td>\n      <td>Mtl325</td>\n      <td>12</td>\n      <td>10</td>\n    </tr>\n    <tr>\n      <th>...</th>\n      <td>...</td>\n      <td>...</td>\n      <td>...</td>\n      <td>...</td>\n    </tr>\n    <tr>\n      <th>674654</th>\n      <td>16301</td>\n      <td>tinyboat-</td>\n      <td>1</td>\n      <td>1</td>\n    </tr>\n    <tr>\n      <th>674657</th>\n      <td>16301</td>\n      <td>verronaut</td>\n      <td>22</td>\n      <td>10</td>\n    </tr>\n    <tr>\n      <th>674660</th>\n      <td>16304</td>\n      <td>MNGrrl</td>\n      <td>40</td>\n      <td>10</td>\n    </tr>\n    <tr>\n      <th>674666</th>\n      <td>16304</td>\n      <td>MystK</td>\n      <td>8</td>\n      <td>8</td>\n    </tr>\n    <tr>\n      <th>674669</th>\n      <td>16304</td>\n      <td>Snorrrlax</td>\n      <td>249</td>\n      <td>10</td>\n    </tr>\n  </tbody>\n</table>\n<p>222056 rows × 4 columns</p>\n</div>"
     },
     "execution_count": 7,
     "metadata": {},
     "output_type": "execute_result"
    }
   ],
   "source": [
    "import numpy as np\n",
    "\n",
    "conv_user_df = df[[\"conv_id\", \"user_id\"]].drop_duplicates()\n",
    "conv_user_df[\"user_conv_count\"] = conv_user_df[\"user_id\"].map(users_counts.loc.__getitem__)\n",
    "conv_user_df[\"user_conv_count_norm\"] = np.minimum(conv_user_df[\"user_conv_count\"], 10)\n",
    "conv_user_df\n",
    "\n"
   ],
   "metadata": {
    "collapsed": false,
    "pycharm": {
     "name": "#%%\n"
    }
   }
  },
  {
   "cell_type": "code",
   "source": [
    "conv_groups = conv_user_df.groupby(\"conv_id\")\\\n",
    "    .agg(\n",
    "        n_users=(\"user_id\", pd.Series.nunique),\n",
    "        mean_user_counts=(\"user_conv_count_norm\", \"mean\")\n",
    "    )\n",
    "conv_groups"
   ],
   "metadata": {
    "collapsed": false,
    "pycharm": {
     "name": "#%%\n"
    }
   },
   "execution_count": 8,
   "outputs": [
    {
     "data": {
      "text/plain": "         n_users  mean_user_counts\nconv_id                           \n3             32          6.343750\n4             25          9.160000\n5             32          7.000000\n7             31          8.451613\n12            24          8.291667\n...          ...               ...\n16298          9          8.444444\n16299         15          9.066667\n16300         28          8.714286\n16301         38          9.052632\n16304          3          9.333333\n\n[8809 rows x 2 columns]",
      "text/html": "<div>\n<style scoped>\n    .dataframe tbody tr th:only-of-type {\n        vertical-align: middle;\n    }\n\n    .dataframe tbody tr th {\n        vertical-align: top;\n    }\n\n    .dataframe thead th {\n        text-align: right;\n    }\n</style>\n<table border=\"1\" class=\"dataframe\">\n  <thead>\n    <tr style=\"text-align: right;\">\n      <th></th>\n      <th>n_users</th>\n      <th>mean_user_counts</th>\n    </tr>\n    <tr>\n      <th>conv_id</th>\n      <th></th>\n      <th></th>\n    </tr>\n  </thead>\n  <tbody>\n    <tr>\n      <th>3</th>\n      <td>32</td>\n      <td>6.343750</td>\n    </tr>\n    <tr>\n      <th>4</th>\n      <td>25</td>\n      <td>9.160000</td>\n    </tr>\n    <tr>\n      <th>5</th>\n      <td>32</td>\n      <td>7.000000</td>\n    </tr>\n    <tr>\n      <th>7</th>\n      <td>31</td>\n      <td>8.451613</td>\n    </tr>\n    <tr>\n      <th>12</th>\n      <td>24</td>\n      <td>8.291667</td>\n    </tr>\n    <tr>\n      <th>...</th>\n      <td>...</td>\n      <td>...</td>\n    </tr>\n    <tr>\n      <th>16298</th>\n      <td>9</td>\n      <td>8.444444</td>\n    </tr>\n    <tr>\n      <th>16299</th>\n      <td>15</td>\n      <td>9.066667</td>\n    </tr>\n    <tr>\n      <th>16300</th>\n      <td>28</td>\n      <td>8.714286</td>\n    </tr>\n    <tr>\n      <th>16301</th>\n      <td>38</td>\n      <td>9.052632</td>\n    </tr>\n    <tr>\n      <th>16304</th>\n      <td>3</td>\n      <td>9.333333</td>\n    </tr>\n  </tbody>\n</table>\n<p>8809 rows × 2 columns</p>\n</div>"
     },
     "execution_count": 8,
     "metadata": {},
     "output_type": "execute_result"
    }
   ]
  },
  {
   "cell_type": "code",
   "execution_count": 9,
   "outputs": [
    {
     "data": {
      "text/plain": "           n_users  mean_user_counts\ncount  8809.000000       8809.000000\nmean     25.207856          8.186147\nstd      35.964517          1.126241\nmin       1.000000          1.000000\n25%      11.000000          7.600000\n50%      16.000000          8.363636\n75%      26.000000          9.000000\nmax     674.000000         10.000000",
      "text/html": "<div>\n<style scoped>\n    .dataframe tbody tr th:only-of-type {\n        vertical-align: middle;\n    }\n\n    .dataframe tbody tr th {\n        vertical-align: top;\n    }\n\n    .dataframe thead th {\n        text-align: right;\n    }\n</style>\n<table border=\"1\" class=\"dataframe\">\n  <thead>\n    <tr style=\"text-align: right;\">\n      <th></th>\n      <th>n_users</th>\n      <th>mean_user_counts</th>\n    </tr>\n  </thead>\n  <tbody>\n    <tr>\n      <th>count</th>\n      <td>8809.000000</td>\n      <td>8809.000000</td>\n    </tr>\n    <tr>\n      <th>mean</th>\n      <td>25.207856</td>\n      <td>8.186147</td>\n    </tr>\n    <tr>\n      <th>std</th>\n      <td>35.964517</td>\n      <td>1.126241</td>\n    </tr>\n    <tr>\n      <th>min</th>\n      <td>1.000000</td>\n      <td>1.000000</td>\n    </tr>\n    <tr>\n      <th>25%</th>\n      <td>11.000000</td>\n      <td>7.600000</td>\n    </tr>\n    <tr>\n      <th>50%</th>\n      <td>16.000000</td>\n      <td>8.363636</td>\n    </tr>\n    <tr>\n      <th>75%</th>\n      <td>26.000000</td>\n      <td>9.000000</td>\n    </tr>\n    <tr>\n      <th>max</th>\n      <td>674.000000</td>\n      <td>10.000000</td>\n    </tr>\n  </tbody>\n</table>\n</div>"
     },
     "execution_count": 9,
     "metadata": {},
     "output_type": "execute_result"
    }
   ],
   "source": [
    "conv_groups.describe()"
   ],
   "metadata": {
    "collapsed": false,
    "pycharm": {
     "name": "#%%\n"
    }
   }
  },
  {
   "cell_type": "code",
   "execution_count": 10,
   "outputs": [
    {
     "data": {
      "text/plain": "         n_users  mean_user_counts\nconv_id                           \n6001          13         10.000000\n6726           5         10.000000\n510            9         10.000000\n7154           8         10.000000\n7083           7         10.000000\n...          ...               ...\n8347           1          3.000000\n741          418          2.626794\n15086        342          2.605263\n15428          4          1.000000\n12307          1          1.000000\n\n[8809 rows x 2 columns]",
      "text/html": "<div>\n<style scoped>\n    .dataframe tbody tr th:only-of-type {\n        vertical-align: middle;\n    }\n\n    .dataframe tbody tr th {\n        vertical-align: top;\n    }\n\n    .dataframe thead th {\n        text-align: right;\n    }\n</style>\n<table border=\"1\" class=\"dataframe\">\n  <thead>\n    <tr style=\"text-align: right;\">\n      <th></th>\n      <th>n_users</th>\n      <th>mean_user_counts</th>\n    </tr>\n    <tr>\n      <th>conv_id</th>\n      <th></th>\n      <th></th>\n    </tr>\n  </thead>\n  <tbody>\n    <tr>\n      <th>6001</th>\n      <td>13</td>\n      <td>10.000000</td>\n    </tr>\n    <tr>\n      <th>6726</th>\n      <td>5</td>\n      <td>10.000000</td>\n    </tr>\n    <tr>\n      <th>510</th>\n      <td>9</td>\n      <td>10.000000</td>\n    </tr>\n    <tr>\n      <th>7154</th>\n      <td>8</td>\n      <td>10.000000</td>\n    </tr>\n    <tr>\n      <th>7083</th>\n      <td>7</td>\n      <td>10.000000</td>\n    </tr>\n    <tr>\n      <th>...</th>\n      <td>...</td>\n      <td>...</td>\n    </tr>\n    <tr>\n      <th>8347</th>\n      <td>1</td>\n      <td>3.000000</td>\n    </tr>\n    <tr>\n      <th>741</th>\n      <td>418</td>\n      <td>2.626794</td>\n    </tr>\n    <tr>\n      <th>15086</th>\n      <td>342</td>\n      <td>2.605263</td>\n    </tr>\n    <tr>\n      <th>15428</th>\n      <td>4</td>\n      <td>1.000000</td>\n    </tr>\n    <tr>\n      <th>12307</th>\n      <td>1</td>\n      <td>1.000000</td>\n    </tr>\n  </tbody>\n</table>\n<p>8809 rows × 2 columns</p>\n</div>"
     },
     "execution_count": 10,
     "metadata": {},
     "output_type": "execute_result"
    }
   ],
   "source": [
    "sorted_conversations = conv_groups.sort_values(by=\"mean_user_counts\", ascending=False)\n",
    "sorted_conversations"
   ],
   "metadata": {
    "collapsed": false,
    "pycharm": {
     "name": "#%%\n"
    }
   }
  },
  {
   "cell_type": "code",
   "execution_count": 11,
   "outputs": [
    {
     "data": {
      "text/plain": "         n_users  mean_user_counts  size\nconv_id                                 \n6001          13         10.000000    20\n6726           5         10.000000    11\n510            9         10.000000    10\n7154           8         10.000000    25\n7083           7         10.000000    15\n...          ...               ...   ...\n8347           1          3.000000    10\n741          418          2.626794   714\n15086        342          2.605263   822\n15428          4          1.000000    10\n12307          1          1.000000     7\n\n[8809 rows x 3 columns]",
      "text/html": "<div>\n<style scoped>\n    .dataframe tbody tr th:only-of-type {\n        vertical-align: middle;\n    }\n\n    .dataframe tbody tr th {\n        vertical-align: top;\n    }\n\n    .dataframe thead th {\n        text-align: right;\n    }\n</style>\n<table border=\"1\" class=\"dataframe\">\n  <thead>\n    <tr style=\"text-align: right;\">\n      <th></th>\n      <th>n_users</th>\n      <th>mean_user_counts</th>\n      <th>size</th>\n    </tr>\n    <tr>\n      <th>conv_id</th>\n      <th></th>\n      <th></th>\n      <th></th>\n    </tr>\n  </thead>\n  <tbody>\n    <tr>\n      <th>6001</th>\n      <td>13</td>\n      <td>10.000000</td>\n      <td>20</td>\n    </tr>\n    <tr>\n      <th>6726</th>\n      <td>5</td>\n      <td>10.000000</td>\n      <td>11</td>\n    </tr>\n    <tr>\n      <th>510</th>\n      <td>9</td>\n      <td>10.000000</td>\n      <td>10</td>\n    </tr>\n    <tr>\n      <th>7154</th>\n      <td>8</td>\n      <td>10.000000</td>\n      <td>25</td>\n    </tr>\n    <tr>\n      <th>7083</th>\n      <td>7</td>\n      <td>10.000000</td>\n      <td>15</td>\n    </tr>\n    <tr>\n      <th>...</th>\n      <td>...</td>\n      <td>...</td>\n      <td>...</td>\n    </tr>\n    <tr>\n      <th>8347</th>\n      <td>1</td>\n      <td>3.000000</td>\n      <td>10</td>\n    </tr>\n    <tr>\n      <th>741</th>\n      <td>418</td>\n      <td>2.626794</td>\n      <td>714</td>\n    </tr>\n    <tr>\n      <th>15086</th>\n      <td>342</td>\n      <td>2.605263</td>\n      <td>822</td>\n    </tr>\n    <tr>\n      <th>15428</th>\n      <td>4</td>\n      <td>1.000000</td>\n      <td>10</td>\n    </tr>\n    <tr>\n      <th>12307</th>\n      <td>1</td>\n      <td>1.000000</td>\n      <td>7</td>\n    </tr>\n  </tbody>\n</table>\n<p>8809 rows × 3 columns</p>\n</div>"
     },
     "execution_count": 11,
     "metadata": {},
     "output_type": "execute_result"
    }
   ],
   "source": [
    "conversation_sizes = df.groupby(\"conv_id\").size().to_frame('size')\n",
    "sorted_conversations_with_sizes = sorted_conversations.join(conversation_sizes)\n",
    "sorted_conversations_with_sizes"
   ],
   "metadata": {
    "collapsed": false,
    "pycharm": {
     "name": "#%%\n"
    }
   }
  },
  {
   "cell_type": "code",
   "execution_count": 12,
   "outputs": [
    {
     "data": {
      "text/plain": "<matplotlib.axes._subplots.AxesSubplot at 0x21fb136f108>"
     },
     "execution_count": 12,
     "metadata": {},
     "output_type": "execute_result"
    },
    {
     "data": {
      "text/plain": "<Figure size 432x288 with 1 Axes>",
      "image/png": "[encoded data removed]"
     },
     "metadata": {
      "needs_background": "light"
     },
     "output_type": "display_data"
    }
   ],
   "source": [
    "conversation_sizes = sorted_conversations_with_sizes[\"size\"]\n",
    "conversation_sizes.reset_index()[\"size\"].cumsum().plot()"
   ],
   "metadata": {
    "collapsed": false,
    "pycharm": {
     "name": "#%%\n"
    }
   }
  },
  {
   "cell_type": "code",
   "execution_count": 13,
   "outputs": [
    {
     "data": {
      "text/plain": "<matplotlib.axes._subplots.AxesSubplot at 0x21f8caaba48>"
     },
     "execution_count": 13,
     "metadata": {},
     "output_type": "execute_result"
    },
    {
     "data": {
      "text/plain": "<Figure size 432x288 with 1 Axes>",
      "image/png": "[encoded data removed]"
     },
     "metadata": {
      "needs_background": "light"
     },
     "output_type": "display_data"
    }
   ],
   "source": [
    "conversation_sizes[:2000].reset_index()[\"size\"].cumsum().plot()"
   ],
   "metadata": {
    "collapsed": false,
    "pycharm": {
     "name": "#%%\n"
    }
   }
  },
  {
   "cell_type": "code",
   "execution_count": 14,
   "outputs": [
    {
     "name": "stdout",
     "output_type": "stream",
     "text": [
      "number or records: 50007\n"
     ]
    }
   ],
   "source": [
    "max_records = 50_000\n",
    "selected_conversations = []\n",
    "sum_records = 0\n",
    "for index, size in sorted_conversations_with_sizes[\"size\"].iteritems():\n",
    "    selected_conversations.append(index)\n",
    "    sum_records += size\n",
    "    if sum_records >= max_records:\n",
    "        break\n",
    "\n",
    "print(f\"number or records: {sum_records}\")"
   ],
   "metadata": {
    "collapsed": false,
    "pycharm": {
     "name": "#%%\n"
    }
   }
  },
  {
   "cell_type": "markdown",
   "source": [
    "convert selected conversations to set - it should be the same length as the list"
   ],
   "metadata": {
    "collapsed": false,
    "pycharm": {
     "name": "#%% md\n"
    }
   }
  },
  {
   "cell_type": "code",
   "execution_count": 15,
   "outputs": [
    {
     "name": "stdout",
     "output_type": "stream",
     "text": [
      "number of selected conversations: 1248\n",
      "number of unique selected conversations: 1248\n"
     ]
    }
   ],
   "source": [
    "print(f\"number of selected conversations: {len(selected_conversations)}\")\n",
    "selected_conversations = set(selected_conversations)\n",
    "print(f\"number of unique selected conversations: {len(selected_conversations)}\")"
   ],
   "metadata": {
    "collapsed": false,
    "pycharm": {
     "name": "#%%\n"
    }
   }
  },
  {
   "cell_type": "code",
   "execution_count": 16,
   "outputs": [
    {
     "name": "stdout",
     "output_type": "stream",
     "text": [
      "number of items in data: 50007\n"
     ]
    },
    {
     "data": {
      "text/plain": "     conv_id message_id parent_id  \\\n882       21    do6dyz3    75i1t3   \n883       21    do6pyq9   do6if7d   \n884       21    do6q0gq    75i1t3   \n885       21    do6k0mz    75i1t3   \n886       21    do6hilj    75i1t3   \n\n                                               content  \\\n882  The problem is you think of everything in too ...   \n883  Sorry fettoba, your comment has been removed: ...   \n884  Sorry ehcaipf, your submission has been remove...   \n885  I mean, one might say that in a perfect world,...   \n886  You sound like they guy who says \"I don't get ...   \n\n                                       cleaned_content           user_id  \n882  the problem is you think of everything in too ...              -pom  \n883  sorry fettoba , your comment has been removed ...           Ansuz07  \n884  sorry ehcaipf , your submission has been remov...           Ansuz07  \n885  i mean , one might say that in a perfect world...  BroccoliManChild  \n886  you sound like they guy who says \" i don't get...           Burflax  ",
      "text/html": "<div>\n<style scoped>\n    .dataframe tbody tr th:only-of-type {\n        vertical-align: middle;\n    }\n\n    .dataframe tbody tr th {\n        vertical-align: top;\n    }\n\n    .dataframe thead th {\n        text-align: right;\n    }\n</style>\n<table border=\"1\" class=\"dataframe\">\n  <thead>\n    <tr style=\"text-align: right;\">\n      <th></th>\n      <th>conv_id</th>\n      <th>message_id</th>\n      <th>parent_id</th>\n      <th>content</th>\n      <th>cleaned_content</th>\n      <th>user_id</th>\n    </tr>\n  </thead>\n  <tbody>\n    <tr>\n      <th>882</th>\n      <td>21</td>\n      <td>do6dyz3</td>\n      <td>75i1t3</td>\n      <td>The problem is you think of everything in too ...</td>\n      <td>the problem is you think of everything in too ...</td>\n      <td>-pom</td>\n    </tr>\n    <tr>\n      <th>883</th>\n      <td>21</td>\n      <td>do6pyq9</td>\n      <td>do6if7d</td>\n      <td>Sorry fettoba, your comment has been removed: ...</td>\n      <td>sorry fettoba , your comment has been removed ...</td>\n      <td>Ansuz07</td>\n    </tr>\n    <tr>\n      <th>884</th>\n      <td>21</td>\n      <td>do6q0gq</td>\n      <td>75i1t3</td>\n      <td>Sorry ehcaipf, your submission has been remove...</td>\n      <td>sorry ehcaipf , your submission has been remov...</td>\n      <td>Ansuz07</td>\n    </tr>\n    <tr>\n      <th>885</th>\n      <td>21</td>\n      <td>do6k0mz</td>\n      <td>75i1t3</td>\n      <td>I mean, one might say that in a perfect world,...</td>\n      <td>i mean , one might say that in a perfect world...</td>\n      <td>BroccoliManChild</td>\n    </tr>\n    <tr>\n      <th>886</th>\n      <td>21</td>\n      <td>do6hilj</td>\n      <td>75i1t3</td>\n      <td>You sound like they guy who says \"I don't get ...</td>\n      <td>you sound like they guy who says \" i don't get...</td>\n      <td>Burflax</td>\n    </tr>\n  </tbody>\n</table>\n</div>"
     },
     "execution_count": 16,
     "metadata": {},
     "output_type": "execute_result"
    }
   ],
   "source": [
    "selected_df = df[df[\"conv_id\"].isin(selected_conversations)]\n",
    "print(f\"number of items in data: {len(selected_df)}\")\n",
    "selected_df.head()"
   ],
   "metadata": {
    "collapsed": false,
    "pycharm": {
     "name": "#%%\n"
    }
   }
  },
  {
   "cell_type": "code",
   "execution_count": 17,
   "outputs": [
    {
     "data": {
      "text/plain": "count    3653.000000\nmean        4.712291\nstd        12.031706\nmin         1.000000\n25%         1.000000\n50%         2.000000\n75%         4.000000\nmax       268.000000\nName: conv_id, dtype: float64"
     },
     "execution_count": 17,
     "metadata": {},
     "output_type": "execute_result"
    }
   ],
   "source": [
    "new_users_counts = selected_df.groupby(\"user_id\")[\"conv_id\"].nunique()\n",
    "new_users_counts.describe()"
   ],
   "metadata": {
    "collapsed": false,
    "pycharm": {
     "name": "#%%\n"
    }
   }
  },
  {
   "cell_type": "code",
   "execution_count": 18,
   "outputs": [
    {
     "data": {
      "text/plain": "user_id\nAnsuz07            268\nPreacherJudge      168\ncdb03b             167\nIswallowedafly     165\ncacheflow          142\nGnosticGnome       140\nHuntingmoa         125\ngarnteller         121\nGlory2Hypnotoad    119\nArdonpitt          118\nName: conv_id, dtype: int64"
     },
     "execution_count": 18,
     "metadata": {},
     "output_type": "execute_result"
    }
   ],
   "source": [
    "new_users_counts.nlargest(10)"
   ],
   "metadata": {
    "collapsed": false,
    "pycharm": {
     "name": "#%%\n"
    }
   }
  },
  {
   "cell_type": "markdown",
   "source": [
    "## reset conversation ids"
   ],
   "metadata": {
    "collapsed": false,
    "pycharm": {
     "name": "#%% md\n"
    }
   }
  },
  {
   "cell_type": "code",
   "execution_count": 19,
   "outputs": [
    {
     "name": "stderr",
     "output_type": "stream",
     "text": [
      "c:\\users\\ronp\\py37-dasci\\lib\\site-packages\\ipykernel_launcher.py:3: SettingWithCopyWarning: \n",
      "A value is trying to be set on a copy of a slice from a DataFrame.\n",
      "Try using .loc[row_indexer,col_indexer] = value instead\n",
      "\n",
      "See the caveats in the documentation: http://pandas.pydata.org/pandas-docs/stable/user_guide/indexing.html#returning-a-view-versus-a-copy\n",
      "  This is separate from the ipykernel package so we can avoid doing imports until\n"
     ]
    },
    {
     "data": {
      "text/plain": "     conv_id message_id parent_id  \\\n882        0    do6dyz3    75i1t3   \n883        0    do6pyq9   do6if7d   \n884        0    do6q0gq    75i1t3   \n885        0    do6k0mz    75i1t3   \n886        0    do6hilj    75i1t3   \n\n                                               content  \\\n882  The problem is you think of everything in too ...   \n883  Sorry fettoba, your comment has been removed: ...   \n884  Sorry ehcaipf, your submission has been remove...   \n885  I mean, one might say that in a perfect world,...   \n886  You sound like they guy who says \"I don't get ...   \n\n                                       cleaned_content           user_id  \n882  the problem is you think of everything in too ...              -pom  \n883  sorry fettoba , your comment has been removed ...           Ansuz07  \n884  sorry ehcaipf , your submission has been remov...           Ansuz07  \n885  i mean , one might say that in a perfect world...  BroccoliManChild  \n886  you sound like they guy who says \" i don't get...           Burflax  ",
      "text/html": "<div>\n<style scoped>\n    .dataframe tbody tr th:only-of-type {\n        vertical-align: middle;\n    }\n\n    .dataframe tbody tr th {\n        vertical-align: top;\n    }\n\n    .dataframe thead th {\n        text-align: right;\n    }\n</style>\n<table border=\"1\" class=\"dataframe\">\n  <thead>\n    <tr style=\"text-align: right;\">\n      <th></th>\n      <th>conv_id</th>\n      <th>message_id</th>\n      <th>parent_id</th>\n      <th>content</th>\n      <th>cleaned_content</th>\n      <th>user_id</th>\n    </tr>\n  </thead>\n  <tbody>\n    <tr>\n      <th>882</th>\n      <td>0</td>\n      <td>do6dyz3</td>\n      <td>75i1t3</td>\n      <td>The problem is you think of everything in too ...</td>\n      <td>the problem is you think of everything in too ...</td>\n      <td>-pom</td>\n    </tr>\n    <tr>\n      <th>883</th>\n      <td>0</td>\n      <td>do6pyq9</td>\n      <td>do6if7d</td>\n      <td>Sorry fettoba, your comment has been removed: ...</td>\n      <td>sorry fettoba , your comment has been removed ...</td>\n      <td>Ansuz07</td>\n    </tr>\n    <tr>\n      <th>884</th>\n      <td>0</td>\n      <td>do6q0gq</td>\n      <td>75i1t3</td>\n      <td>Sorry ehcaipf, your submission has been remove...</td>\n      <td>sorry ehcaipf , your submission has been remov...</td>\n      <td>Ansuz07</td>\n    </tr>\n    <tr>\n      <th>885</th>\n      <td>0</td>\n      <td>do6k0mz</td>\n      <td>75i1t3</td>\n      <td>I mean, one might say that in a perfect world,...</td>\n      <td>i mean , one might say that in a perfect world...</td>\n      <td>BroccoliManChild</td>\n    </tr>\n    <tr>\n      <th>886</th>\n      <td>0</td>\n      <td>do6hilj</td>\n      <td>75i1t3</td>\n      <td>You sound like they guy who says \"I don't get ...</td>\n      <td>you sound like they guy who says \" i don't get...</td>\n      <td>Burflax</td>\n    </tr>\n  </tbody>\n</table>\n</div>"
     },
     "execution_count": 19,
     "metadata": {},
     "output_type": "execute_result"
    }
   ],
   "source": [
    "conversation_ids_mapping = {conv_id: i for i, conv_id in enumerate(sorted(selected_conversations))}\n",
    "new_conv_ids = selected_df[\"conv_id\"].map(conversation_ids_mapping.get)\n",
    "selected_df[\"conv_id\"] = new_conv_ids\n",
    "selected_df.head()"
   ],
   "metadata": {
    "collapsed": false,
    "pycharm": {
     "name": "#%%\n"
    }
   }
  },
  {
   "cell_type": "markdown",
   "source": [
    "## reset users ids"
   ],
   "metadata": {
    "collapsed": false
   }
  },
  {
   "cell_type": "code",
   "execution_count": 20,
   "outputs": [
    {
     "name": "stderr",
     "output_type": "stream",
     "text": [
      "c:\\users\\ronp\\py37-dasci\\lib\\site-packages\\ipykernel_launcher.py:3: SettingWithCopyWarning: \n",
      "A value is trying to be set on a copy of a slice from a DataFrame.\n",
      "Try using .loc[row_indexer,col_indexer] = value instead\n",
      "\n",
      "See the caveats in the documentation: http://pandas.pydata.org/pandas-docs/stable/user_guide/indexing.html#returning-a-view-versus-a-copy\n",
      "  This is separate from the ipykernel package so we can avoid doing imports until\n"
     ]
    },
    {
     "data": {
      "text/plain": "     conv_id message_id parent_id  \\\n882        0    do6dyz3    75i1t3   \n883        0    do6pyq9   do6if7d   \n884        0    do6q0gq    75i1t3   \n885        0    do6k0mz    75i1t3   \n886        0    do6hilj    75i1t3   \n\n                                               content  \\\n882  The problem is you think of everything in too ...   \n883  Sorry fettoba, your comment has been removed: ...   \n884  Sorry ehcaipf, your submission has been remove...   \n885  I mean, one might say that in a perfect world,...   \n886  You sound like they guy who says \"I don't get ...   \n\n                                       cleaned_content  user_id  \n882  the problem is you think of everything in too ...      323  \n883  sorry fettoba , your comment has been removed ...     2533  \n884  sorry ehcaipf , your submission has been remov...     2533  \n885  i mean , one might say that in a perfect world...     4670  \n886  you sound like they guy who says \" i don't get...     4931  ",
      "text/html": "<div>\n<style scoped>\n    .dataframe tbody tr th:only-of-type {\n        vertical-align: middle;\n    }\n\n    .dataframe tbody tr th {\n        vertical-align: top;\n    }\n\n    .dataframe thead th {\n        text-align: right;\n    }\n</style>\n<table border=\"1\" class=\"dataframe\">\n  <thead>\n    <tr style=\"text-align: right;\">\n      <th></th>\n      <th>conv_id</th>\n      <th>message_id</th>\n      <th>parent_id</th>\n      <th>content</th>\n      <th>cleaned_content</th>\n      <th>user_id</th>\n    </tr>\n  </thead>\n  <tbody>\n    <tr>\n      <th>882</th>\n      <td>0</td>\n      <td>do6dyz3</td>\n      <td>75i1t3</td>\n      <td>The problem is you think of everything in too ...</td>\n      <td>the problem is you think of everything in too ...</td>\n      <td>323</td>\n    </tr>\n    <tr>\n      <th>883</th>\n      <td>0</td>\n      <td>do6pyq9</td>\n      <td>do6if7d</td>\n      <td>Sorry fettoba, your comment has been removed: ...</td>\n      <td>sorry fettoba , your comment has been removed ...</td>\n      <td>2533</td>\n    </tr>\n    <tr>\n      <th>884</th>\n      <td>0</td>\n      <td>do6q0gq</td>\n      <td>75i1t3</td>\n      <td>Sorry ehcaipf, your submission has been remove...</td>\n      <td>sorry ehcaipf , your submission has been remov...</td>\n      <td>2533</td>\n    </tr>\n    <tr>\n      <th>885</th>\n      <td>0</td>\n      <td>do6k0mz</td>\n      <td>75i1t3</td>\n      <td>I mean, one might say that in a perfect world,...</td>\n      <td>i mean , one might say that in a perfect world...</td>\n      <td>4670</td>\n    </tr>\n    <tr>\n      <th>886</th>\n      <td>0</td>\n      <td>do6hilj</td>\n      <td>75i1t3</td>\n      <td>You sound like they guy who says \"I don't get ...</td>\n      <td>you sound like they guy who says \" i don't get...</td>\n      <td>4931</td>\n    </tr>\n  </tbody>\n</table>\n</div>"
     },
     "execution_count": 20,
     "metadata": {},
     "output_type": "execute_result"
    }
   ],
   "source": [
    "user_ids_mapping = {user_id: i for i, user_id in enumerate(sorted(selected_df[\"user_id\"]))}\n",
    "new_user_ids = selected_df[\"user_id\"].map(user_ids_mapping.get)\n",
    "selected_df[\"user_id\"] = new_user_ids\n",
    "selected_df.head()"
   ],
   "metadata": {
    "collapsed": false,
    "pycharm": {
     "name": "#%%\n"
    }
   }
  },
  {
   "cell_type": "code",
   "execution_count": 21,
   "outputs": [
    {
     "data": {
      "text/plain": "True"
     },
     "execution_count": 21,
     "metadata": {},
     "output_type": "execute_result"
    }
   ],
   "source": [
    "# verify that no index was skipped\n",
    "list(selected_df[\"conv_id\"].unique()) == list(range(len(selected_conversations)))"
   ],
   "metadata": {
    "collapsed": false,
    "pycharm": {
     "name": "#%%\n"
    }
   }
  },
  {
   "cell_type": "code",
   "execution_count": 22,
   "outputs": [],
   "source": [
    "selected_df.to_csv(\"cmv-frequent-recsys.tsv\", sep=\"\\t\", index=False)"
   ],
   "metadata": {
    "collapsed": false,
    "pycharm": {
     "name": "#%%\n"
    }
   }
  },
  {
   "cell_type": "markdown",
   "source": [
    "# Build CMV Dataset with Random Branches\n",
    "(Not full conversations)\n",
    "use the same selected conversations to pick branches"
   ],
   "metadata": {
    "collapsed": false,
    "pycharm": {
     "name": "#%% md\n"
    }
   }
  },
  {
   "cell_type": "code",
   "execution_count": 29,
   "outputs": [
    {
     "name": "stderr",
     "output_type": "stream",
     "text": [
      "100%|██████████| 15000/15000 [01:21<00:00, 183.15it/s]\n"
     ]
    },
    {
     "name": "stdout",
     "output_type": "stream",
     "text": [
      "total number of record: 11240\n"
     ]
    },
    {
     "data": {
      "text/plain": "    conv_id message_id parent_id  \\\n928       0     75i1t3      None   \n925       0    do6b85m    75i1t3   \n928       0     75i1t3      None   \n925       0    do6b85m    75i1t3   \n929       0    do6bc58   do6b85m   \n\n                                               content  \\\n928                                          [removed]   \n925  Weinstein **doesn't** grant favors to women in...   \n928                                          [removed]   \n925  Weinstein **doesn't** grant favors to women in...   \n929  Has any women who refused been black listed? A...   \n\n                                       cleaned_content user_id  \n928                                        [ removed ]   34043  \n925  weinstein * <REPEAT> doesn't * <REPEAT> grant ...   33662  \n928                                        [ removed ]   34043  \n925  weinstein * <REPEAT> doesn't * <REPEAT> grant ...   33662  \n929  has any women who refused been black listed ? ...   34043  ",
      "text/html": "<div>\n<style scoped>\n    .dataframe tbody tr th:only-of-type {\n        vertical-align: middle;\n    }\n\n    .dataframe tbody tr th {\n        vertical-align: top;\n    }\n\n    .dataframe thead th {\n        text-align: right;\n    }\n</style>\n<table border=\"1\" class=\"dataframe\">\n  <thead>\n    <tr style=\"text-align: right;\">\n      <th></th>\n      <th>conv_id</th>\n      <th>message_id</th>\n      <th>parent_id</th>\n      <th>content</th>\n      <th>cleaned_content</th>\n      <th>user_id</th>\n    </tr>\n  </thead>\n  <tbody>\n    <tr>\n      <th>928</th>\n      <td>0</td>\n      <td>75i1t3</td>\n      <td>None</td>\n      <td>[removed]</td>\n      <td>[ removed ]</td>\n      <td>34043</td>\n    </tr>\n    <tr>\n      <th>925</th>\n      <td>0</td>\n      <td>do6b85m</td>\n      <td>75i1t3</td>\n      <td>Weinstein **doesn't** grant favors to women in...</td>\n      <td>weinstein * &lt;REPEAT&gt; doesn't * &lt;REPEAT&gt; grant ...</td>\n      <td>33662</td>\n    </tr>\n    <tr>\n      <th>928</th>\n      <td>0</td>\n      <td>75i1t3</td>\n      <td>None</td>\n      <td>[removed]</td>\n      <td>[ removed ]</td>\n      <td>34043</td>\n    </tr>\n    <tr>\n      <th>925</th>\n      <td>0</td>\n      <td>do6b85m</td>\n      <td>75i1t3</td>\n      <td>Weinstein **doesn't** grant favors to women in...</td>\n      <td>weinstein * &lt;REPEAT&gt; doesn't * &lt;REPEAT&gt; grant ...</td>\n      <td>33662</td>\n    </tr>\n    <tr>\n      <th>929</th>\n      <td>0</td>\n      <td>do6bc58</td>\n      <td>do6b85m</td>\n      <td>Has any women who refused been black listed? A...</td>\n      <td>has any women who refused been black listed ? ...</td>\n      <td>34043</td>\n    </tr>\n  </tbody>\n</table>\n</div>"
     },
     "execution_count": 29,
     "metadata": {},
     "output_type": "execute_result"
    }
   ],
   "source": [
    "original_df = selected_df.append(ignore_df)\n",
    "message_id_index_mapping = original_df[\"message_id\"].reset_index().set_index(\"message_id\")\n",
    "selected_nodes_df = selected_df.sample(n=15000, random_state=1919)\n",
    "parents_rows = {}\n",
    "for index, row in tqdm.tqdm(selected_nodes_df.iterrows(), total=len(selected_nodes_df)):\n",
    "    index_in_conv = 0\n",
    "    conv_id = row.conv_id\n",
    "    parents_rows[(conv_id, index_in_conv)] = row\n",
    "    parent_id = row.parent_id\n",
    "\n",
    "    while (not pd.isna(parent_id)) and (parent_id is not None) and (parent_id != \"None\"):\n",
    "        index_in_conv -= 1\n",
    "        parent_index = message_id_index_mapping.loc[parent_id][\"index\"]\n",
    "        parent_row = original_df.loc[parent_index]\n",
    "        parent_id = parent_row.parent_id\n",
    "        # random_df.loc[parent_index] = parent_row\n",
    "        parents_rows[(conv_id, index_in_conv)] = parent_row\n",
    "\n",
    "selected_branches_df = pd.concat(map(itemgetter(1), sorted(parents_rows.items(), key=itemgetter(0))), axis=1).T\n",
    "print(f\"total number of record: {len(selected_branches_df)}\")\n",
    "selected_branches_df.head()"
   ],
   "metadata": {
    "collapsed": false,
    "pycharm": {
     "name": "#%%\n"
    }
   }
  },
  {
   "cell_type": "markdown",
   "source": [
    "number of conversations"
   ],
   "metadata": {
    "collapsed": false,
    "pycharm": {
     "name": "#%% md\n"
    }
   }
  },
  {
   "cell_type": "code",
   "execution_count": 40,
   "outputs": [
    {
     "data": {
      "text/plain": "1248"
     },
     "execution_count": 40,
     "metadata": {},
     "output_type": "execute_result"
    }
   ],
   "source": [
    "len(selected_conversations)"
   ],
   "metadata": {
    "collapsed": false,
    "pycharm": {
     "name": "#%%\n"
    }
   }
  },
  {
   "cell_type": "code",
   "execution_count": null,
   "outputs": [],
   "source": [
    "selected_branches_df[\"conv_id\"].nunique()"
   ],
   "metadata": {
    "collapsed": false,
    "pycharm": {
     "name": "#%%\n"
    }
   }
  },
  {
   "cell_type": "code",
   "execution_count": 31,
   "outputs": [
    {
     "data": {
      "text/plain": "count    1652.000000\nmean        2.446731\nstd        10.523727\nmin         1.000000\n25%         1.000000\n50%         1.000000\n75%         2.000000\nmax       404.000000\nName: conv_id, dtype: float64"
     },
     "execution_count": 31,
     "metadata": {},
     "output_type": "execute_result"
    }
   ],
   "source": [
    "new_users_counts = selected_branches_df.groupby(\"user_id\")[\"conv_id\"].nunique()\n",
    "new_users_counts.describe()"
   ],
   "metadata": {
    "collapsed": false,
    "pycharm": {
     "name": "#%%\n"
    }
   }
  },
  {
   "cell_type": "code",
   "execution_count": 32,
   "outputs": [
    {
     "data": {
      "text/plain": "user_id\n[deleted]    404\n32414         46\n20315         44\n2533          40\n30438         39\n12891         36\n11757         34\n10032         33\n31172         32\n3040          24\nName: conv_id, dtype: int64"
     },
     "execution_count": 32,
     "metadata": {},
     "output_type": "execute_result"
    }
   ],
   "source": [
    "new_users_counts.nlargest(10)"
   ],
   "metadata": {
    "collapsed": false,
    "pycharm": {
     "name": "#%%\n"
    }
   }
  },
  {
   "cell_type": "code",
   "execution_count": 32,
   "outputs": [],
   "source": [],
   "metadata": {
    "collapsed": false,
    "pycharm": {
     "name": "#%%\n"
    }
   }
  },
  {
   "cell_type": "markdown",
   "source": [
    "## reset conversation ids"
   ],
   "metadata": {
    "collapsed": false
   }
  },
  {
   "cell_type": "code",
   "execution_count": 33,
   "outputs": [
    {
     "data": {
      "text/plain": "     conv_id message_id parent_id  \\\n928        0     75i1t3      None   \n925        0    do6b85m    75i1t3   \n928        0     75i1t3      None   \n925        0    do6b85m    75i1t3   \n929        0    do6bc58   do6b85m   \n\n                                               content  \\\n928                                          [removed]   \n925  Weinstein **doesn't** grant favors to women in...   \n928                                          [removed]   \n925  Weinstein **doesn't** grant favors to women in...   \n929  Has any women who refused been black listed? A...   \n\n                                       cleaned_content user_id  \n928                                        [ removed ]   34043  \n925  weinstein * <REPEAT> doesn't * <REPEAT> grant ...   33662  \n928                                        [ removed ]   34043  \n925  weinstein * <REPEAT> doesn't * <REPEAT> grant ...   33662  \n929  has any women who refused been black listed ? ...   34043  ",
      "text/html": "<div>\n<style scoped>\n    .dataframe tbody tr th:only-of-type {\n        vertical-align: middle;\n    }\n\n    .dataframe tbody tr th {\n        vertical-align: top;\n    }\n\n    .dataframe thead th {\n        text-align: right;\n    }\n</style>\n<table border=\"1\" class=\"dataframe\">\n  <thead>\n    <tr style=\"text-align: right;\">\n      <th></th>\n      <th>conv_id</th>\n      <th>message_id</th>\n      <th>parent_id</th>\n      <th>content</th>\n      <th>cleaned_content</th>\n      <th>user_id</th>\n    </tr>\n  </thead>\n  <tbody>\n    <tr>\n      <th>928</th>\n      <td>0</td>\n      <td>75i1t3</td>\n      <td>None</td>\n      <td>[removed]</td>\n      <td>[ removed ]</td>\n      <td>34043</td>\n    </tr>\n    <tr>\n      <th>925</th>\n      <td>0</td>\n      <td>do6b85m</td>\n      <td>75i1t3</td>\n      <td>Weinstein **doesn't** grant favors to women in...</td>\n      <td>weinstein * &lt;REPEAT&gt; doesn't * &lt;REPEAT&gt; grant ...</td>\n      <td>33662</td>\n    </tr>\n    <tr>\n      <th>928</th>\n      <td>0</td>\n      <td>75i1t3</td>\n      <td>None</td>\n      <td>[removed]</td>\n      <td>[ removed ]</td>\n      <td>34043</td>\n    </tr>\n    <tr>\n      <th>925</th>\n      <td>0</td>\n      <td>do6b85m</td>\n      <td>75i1t3</td>\n      <td>Weinstein **doesn't** grant favors to women in...</td>\n      <td>weinstein * &lt;REPEAT&gt; doesn't * &lt;REPEAT&gt; grant ...</td>\n      <td>33662</td>\n    </tr>\n    <tr>\n      <th>929</th>\n      <td>0</td>\n      <td>do6bc58</td>\n      <td>do6b85m</td>\n      <td>Has any women who refused been black listed? A...</td>\n      <td>has any women who refused been black listed ? ...</td>\n      <td>34043</td>\n    </tr>\n  </tbody>\n</table>\n</div>"
     },
     "execution_count": 33,
     "metadata": {},
     "output_type": "execute_result"
    }
   ],
   "source": [
    "conversations = sorted(selected_branches_df[\"conv_id\"].unique())\n",
    "conversation_ids_mapping = {conv_id: i for i, conv_id in enumerate(conversations)}\n",
    "new_conv_ids = selected_branches_df[\"conv_id\"].map(conversation_ids_mapping.get)\n",
    "selected_branches_df[\"conv_id\"] = new_conv_ids\n",
    "selected_branches_df.head()"
   ],
   "metadata": {
    "collapsed": false,
    "pycharm": {
     "name": "#%%\n"
    }
   }
  },
  {
   "cell_type": "markdown",
   "source": [
    "## reset users ids"
   ],
   "metadata": {
    "collapsed": false
   }
  },
  {
   "cell_type": "code",
   "execution_count": 38,
   "outputs": [
    {
     "data": {
      "text/plain": "     conv_id message_id parent_id  \\\n928        0     75i1t3      None   \n925        0    do6b85m    75i1t3   \n928        0     75i1t3      None   \n925        0    do6b85m    75i1t3   \n929        0    do6bc58   do6b85m   \n\n                                               content  \\\n928                                          [removed]   \n925  Weinstein **doesn't** grant favors to women in...   \n928                                          [removed]   \n925  Weinstein **doesn't** grant favors to women in...   \n929  Has any women who refused been black listed? A...   \n\n                                       cleaned_content  user_id  \n928                                        [ removed ]     8090  \n925  weinstein * <REPEAT> doesn't * <REPEAT> grant ...     8006  \n928                                        [ removed ]     8090  \n925  weinstein * <REPEAT> doesn't * <REPEAT> grant ...     8006  \n929  has any women who refused been black listed ? ...     8090  ",
      "text/html": "<div>\n<style scoped>\n    .dataframe tbody tr th:only-of-type {\n        vertical-align: middle;\n    }\n\n    .dataframe tbody tr th {\n        vertical-align: top;\n    }\n\n    .dataframe thead th {\n        text-align: right;\n    }\n</style>\n<table border=\"1\" class=\"dataframe\">\n  <thead>\n    <tr style=\"text-align: right;\">\n      <th></th>\n      <th>conv_id</th>\n      <th>message_id</th>\n      <th>parent_id</th>\n      <th>content</th>\n      <th>cleaned_content</th>\n      <th>user_id</th>\n    </tr>\n  </thead>\n  <tbody>\n    <tr>\n      <th>928</th>\n      <td>0</td>\n      <td>75i1t3</td>\n      <td>None</td>\n      <td>[removed]</td>\n      <td>[ removed ]</td>\n      <td>8090</td>\n    </tr>\n    <tr>\n      <th>925</th>\n      <td>0</td>\n      <td>do6b85m</td>\n      <td>75i1t3</td>\n      <td>Weinstein **doesn't** grant favors to women in...</td>\n      <td>weinstein * &lt;REPEAT&gt; doesn't * &lt;REPEAT&gt; grant ...</td>\n      <td>8006</td>\n    </tr>\n    <tr>\n      <th>928</th>\n      <td>0</td>\n      <td>75i1t3</td>\n      <td>None</td>\n      <td>[removed]</td>\n      <td>[ removed ]</td>\n      <td>8090</td>\n    </tr>\n    <tr>\n      <th>925</th>\n      <td>0</td>\n      <td>do6b85m</td>\n      <td>75i1t3</td>\n      <td>Weinstein **doesn't** grant favors to women in...</td>\n      <td>weinstein * &lt;REPEAT&gt; doesn't * &lt;REPEAT&gt; grant ...</td>\n      <td>8006</td>\n    </tr>\n    <tr>\n      <th>929</th>\n      <td>0</td>\n      <td>do6bc58</td>\n      <td>do6b85m</td>\n      <td>Has any women who refused been black listed? A...</td>\n      <td>has any women who refused been black listed ? ...</td>\n      <td>8090</td>\n    </tr>\n  </tbody>\n</table>\n</div>"
     },
     "execution_count": 38,
     "metadata": {},
     "output_type": "execute_result"
    }
   ],
   "source": [
    "selected_branches_df[\"user_id\"] = [u if (u != \"[deleted]\" and u != \"DeltaBot\") else -1 for u in selected_branches_df[\"user_id\"]]\n",
    "user_ids_mapping = {user_id: i for i, user_id in enumerate(sorted(selected_branches_df[\"user_id\"]))}\n",
    "user_ids_mapping[\"[deleted]\"] = -1\n",
    "user_ids_mapping[\"DeltaBot\"] = -1\n",
    "new_user_ids = selected_branches_df[\"user_id\"].map(user_ids_mapping.get)\n",
    "selected_branches_df[\"user_id\"] = new_user_ids\n",
    "selected_branches_df.head()"
   ],
   "metadata": {
    "collapsed": false,
    "pycharm": {
     "name": "#%%\n"
    }
   }
  },
  {
   "cell_type": "markdown",
   "source": [
    "## write to csv"
   ],
   "metadata": {
    "collapsed": false
   }
  },
  {
   "cell_type": "code",
   "execution_count": 39,
   "outputs": [],
   "source": [
    "selected_branches_df.to_csv(\"cmv-selected-branches-recsys.tsv\", sep=\"\\t\", index=False)\n",
    "\n"
   ],
   "metadata": {
    "collapsed": false,
    "pycharm": {
     "name": "#%%\n"
    }
   }
  }
 ],
 "metadata": {
  "kernelspec": {
   "display_name": "Python 3",
   "language": "python",
   "name": "python3"
  },
  "language_info": {
   "codemirror_mode": {
    "name": "ipython",
    "version": 2
   },
   "file_extension": ".py",
   "mimetype": "text/x-python",
   "name": "python",
   "nbconvert_exporter": "python",
   "pygments_lexer": "ipython2",
   "version": "2.7.6"
  }
 },
 "nbformat": 4,
 "nbformat_minor": 0
}