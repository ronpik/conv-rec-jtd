{
 "cells": [
  {
   "cell_type": "markdown",
   "metadata": {},
   "source": [
    "# Simple Graph Embedding (for Ron DP) "
   ]
  },
  {
   "cell_type": "markdown",
   "metadata": {},
   "source": [
    "https://karateclub.readthedocs.io/en/latest/notes/introduction.html#graph-embedding"
   ]
  },
  {
   "cell_type": "markdown",
   "metadata": {},
   "source": [
    "first pip install karate club if you don't have it"
   ]
  },
  {
   "cell_type": "code",
   "execution_count": 1,
   "metadata": {},
   "outputs": [],
   "source": [
    "import networkx as nx\n",
    "import pandas as pd"
   ]
  },
  {
   "cell_type": "markdown",
   "metadata": {},
   "source": [
    "Takes a list of nx.graph, each of out conversations is one graph. "
   ]
  },
  {
   "cell_type": "markdown",
   "metadata": {},
   "source": [
    "loading data"
   ]
  },
  {
   "cell_type": "code",
   "execution_count": 16,
   "metadata": {},
   "outputs": [
    {
     "data": {
      "text/plain": "   conv_id message_id parent_id  \\\n0        0     7f30fw      None   \n1        0    dq96y51    7f30fw   \n2        0    dq9acxt   dq96y51   \n3        0    dq9az1f   dq9acxt   \n4        0    dq9kk1z   dq9az1f   \n\n                                             content  \\\n0  Reddit is the modern-day shoeshine boy: the la...   \n1  Can you define “real gains”? People have been ...   \n2  As opposed to speculative profits. As in, the ...   \n3  So what about the examples I gave? Would they ...   \n4  What they're trying to say I think is that tho...   \n\n                                     cleaned_content  user_id  \n0  reddit is the modern-day shoeshine boy : the l...    17090  \n1  can you define “ real gains ” ? people have be...    24410  \n2  as opposed to speculative profits . as in , th...    17090  \n3  so what about the examples i gave ? would they...    24410  \n4  what they're trying to say i think is that tho...    38507  ",
      "text/html": "<div>\n<style scoped>\n    .dataframe tbody tr th:only-of-type {\n        vertical-align: middle;\n    }\n\n    .dataframe tbody tr th {\n        vertical-align: top;\n    }\n\n    .dataframe thead th {\n        text-align: right;\n    }\n</style>\n<table border=\"1\" class=\"dataframe\">\n  <thead>\n    <tr style=\"text-align: right;\">\n      <th></th>\n      <th>conv_id</th>\n      <th>message_id</th>\n      <th>parent_id</th>\n      <th>content</th>\n      <th>cleaned_content</th>\n      <th>user_id</th>\n    </tr>\n  </thead>\n  <tbody>\n    <tr>\n      <th>0</th>\n      <td>0</td>\n      <td>7f30fw</td>\n      <td>None</td>\n      <td>Reddit is the modern-day shoeshine boy: the la...</td>\n      <td>reddit is the modern-day shoeshine boy : the l...</td>\n      <td>17090</td>\n    </tr>\n    <tr>\n      <th>1</th>\n      <td>0</td>\n      <td>dq96y51</td>\n      <td>7f30fw</td>\n      <td>Can you define “real gains”? People have been ...</td>\n      <td>can you define “ real gains ” ? people have be...</td>\n      <td>24410</td>\n    </tr>\n    <tr>\n      <th>2</th>\n      <td>0</td>\n      <td>dq9acxt</td>\n      <td>dq96y51</td>\n      <td>As opposed to speculative profits. As in, the ...</td>\n      <td>as opposed to speculative profits . as in , th...</td>\n      <td>17090</td>\n    </tr>\n    <tr>\n      <th>3</th>\n      <td>0</td>\n      <td>dq9az1f</td>\n      <td>dq9acxt</td>\n      <td>So what about the examples I gave? Would they ...</td>\n      <td>so what about the examples i gave ? would they...</td>\n      <td>24410</td>\n    </tr>\n    <tr>\n      <th>4</th>\n      <td>0</td>\n      <td>dq9kk1z</td>\n      <td>dq9az1f</td>\n      <td>What they're trying to say I think is that tho...</td>\n      <td>what they're trying to say i think is that tho...</td>\n      <td>38507</td>\n    </tr>\n  </tbody>\n</table>\n</div>"
     },
     "execution_count": 16,
     "metadata": {},
     "output_type": "execute_result"
    }
   ],
   "source": [
    "import tqdm\n",
    "df = pd.read_csv('./cmv-random-branches-recsys.tsv', sep='\\t',\n",
    "                   # names=['conversation_id', 'message_id', 'parent_id', \"text\", \"processed\", \"user_id\"],\n",
    "                   dtype = {'parent_id': 'str', 'message_id':'str' })\n",
    "                   \n",
    "df.head()"
   ]
  },
  {
   "cell_type": "markdown",
   "metadata": {},
   "source": [
    "Pre-processing, we want just the reply-to relation between posts. "
   ]
  },
  {
   "cell_type": "code",
   "execution_count": 17,
   "metadata": {},
   "outputs": [
    {
     "data": {
      "text/plain": "   conv_id message_id parent_id  \\\n0        0     7f30fw      None   \n1        0    dq96y51    7f30fw   \n2        0    dq9acxt   dq96y51   \n3        0    dq9az1f   dq9acxt   \n4        0    dq9kk1z   dq9az1f   \n\n                                             content  \\\n0  Reddit is the modern-day shoeshine boy: the la...   \n1  Can you define “real gains”? People have been ...   \n2  As opposed to speculative profits. As in, the ...   \n3  So what about the examples I gave? Would they ...   \n4  What they're trying to say I think is that tho...   \n\n                                     cleaned_content  user_id  \n0  reddit is the modern-day shoeshine boy : the l...    17090  \n1  can you define “ real gains ” ? people have be...    24410  \n2  as opposed to speculative profits . as in , th...    17090  \n3  so what about the examples i gave ? would they...    24410  \n4  what they're trying to say i think is that tho...    38507  ",
      "text/html": "<div>\n<style scoped>\n    .dataframe tbody tr th:only-of-type {\n        vertical-align: middle;\n    }\n\n    .dataframe tbody tr th {\n        vertical-align: top;\n    }\n\n    .dataframe thead th {\n        text-align: right;\n    }\n</style>\n<table border=\"1\" class=\"dataframe\">\n  <thead>\n    <tr style=\"text-align: right;\">\n      <th></th>\n      <th>conv_id</th>\n      <th>message_id</th>\n      <th>parent_id</th>\n      <th>content</th>\n      <th>cleaned_content</th>\n      <th>user_id</th>\n    </tr>\n  </thead>\n  <tbody>\n    <tr>\n      <th>0</th>\n      <td>0</td>\n      <td>7f30fw</td>\n      <td>None</td>\n      <td>Reddit is the modern-day shoeshine boy: the la...</td>\n      <td>reddit is the modern-day shoeshine boy : the l...</td>\n      <td>17090</td>\n    </tr>\n    <tr>\n      <th>1</th>\n      <td>0</td>\n      <td>dq96y51</td>\n      <td>7f30fw</td>\n      <td>Can you define “real gains”? People have been ...</td>\n      <td>can you define “ real gains ” ? people have be...</td>\n      <td>24410</td>\n    </tr>\n    <tr>\n      <th>2</th>\n      <td>0</td>\n      <td>dq9acxt</td>\n      <td>dq96y51</td>\n      <td>As opposed to speculative profits. As in, the ...</td>\n      <td>as opposed to speculative profits . as in , th...</td>\n      <td>17090</td>\n    </tr>\n    <tr>\n      <th>3</th>\n      <td>0</td>\n      <td>dq9az1f</td>\n      <td>dq9acxt</td>\n      <td>So what about the examples I gave? Would they ...</td>\n      <td>so what about the examples i gave ? would they...</td>\n      <td>24410</td>\n    </tr>\n    <tr>\n      <th>4</th>\n      <td>0</td>\n      <td>dq9kk1z</td>\n      <td>dq9az1f</td>\n      <td>What they're trying to say I think is that tho...</td>\n      <td>what they're trying to say i think is that tho...</td>\n      <td>38507</td>\n    </tr>\n  </tbody>\n</table>\n</div>"
     },
     "execution_count": 17,
     "metadata": {},
     "output_type": "execute_result"
    }
   ],
   "source": [
    "# trec = trec.drop('posting_time', axis=1)\n",
    "df = df.dropna()\n",
    "df.head()"
   ]
  },
  {
   "cell_type": "markdown",
   "metadata": {},
   "source": [
    "Process dataframe to nx graphs"
   ]
  },
  {
   "cell_type": "code",
   "execution_count": 18,
   "metadata": {},
   "outputs": [
    {
     "name": "stderr",
     "output_type": "stream",
     "text": [
      "100%|██████████| 5583/5583 [03:09<00:00, 29.40it/s]\n"
     ]
    }
   ],
   "source": [
    "graphs = []\n",
    "grouped = df.groupby('conv_id')\n",
    "for name, conversation_ in tqdm.tqdm(grouped):\n",
    "    conversation = conversation_.filter(['message_id', 'parent_id'])\n",
    "    d = {k: i for i, k in enumerate(set(conversation[[\"message_id\", \"parent_id\"]].values.ravel()))}\n",
    "    conversation[\"node_index\"] = [d[n] for n in conversation[\"message_id\"]]\n",
    "    conversation[\"parent_index\"] = [d[n] for n in conversation[\"parent_id\"]]\n",
    "    edges = conversation[[\"node_index\", \"parent_index\"]].itertuples(index=False, name=None)\n",
    "    G = nx.from_edgelist(edges)\n",
    "    graphs.append(G)"
   ]
  },
  {
   "cell_type": "code",
   "execution_count": 19,
   "metadata": {},
   "outputs": [
    {
     "data": {
      "text/plain": "(5583, 4)"
     },
     "execution_count": 19,
     "metadata": {},
     "output_type": "execute_result"
    }
   ],
   "source": [
    "len(graphs), graphs[700].number_of_edges()"
   ]
  },
  {
   "cell_type": "markdown",
   "metadata": {},
   "source": [
    "We can plot the one of the graphs to feel better with ourselfs"
   ]
  },
  {
   "cell_type": "code",
   "execution_count": 20,
   "metadata": {},
   "outputs": [
    {
     "data": {
      "text/plain": "<Figure size 432x288 with 1 Axes>",
      "image/png": "[encoded data removed]"
     },
     "metadata": {},
     "output_type": "display_data"
    }
   ],
   "source": [
    "import random\n",
    "random_conversation = random.choice(graphs)\n",
    "nx.draw(random_conversation)"
   ]
  },
  {
   "cell_type": "markdown",
   "metadata": {},
   "source": [
    "## Embedding"
   ]
  },
  {
   "cell_type": "markdown",
   "metadata": {},
   "source": [
    "First type of embedding, called Feather,"
   ]
  },
  {
   "cell_type": "code",
   "execution_count": null,
   "metadata": {},
   "outputs": [],
   "source": [
    "# from karateclub.dataset import GraphSetReader\n",
    "\n",
    "# reader = GraphSetReader(\"reddit10k\")\n",
    "\n",
    "# graphs = reader.get_graphs()"
   ]
  },
  {
   "cell_type": "code",
   "execution_count": 21,
   "outputs": [],
   "source": [
    "for i, g in enumerate(graphs):\n",
    "    assert(list(range(len(g.nodes))) == sorted(g.nodes))"
   ],
   "metadata": {
    "collapsed": false,
    "pycharm": {
     "name": "#%%\n"
    }
   }
  },
  {
   "cell_type": "code",
   "execution_count": 22,
   "outputs": [
    {
     "name": "stdout",
     "output_type": "stream",
     "text": [
      "5583\n",
      "5583\n"
     ]
    }
   ],
   "source": [
    "print(len(graphs))\n",
    "connected_graphs = list(filter(nx.is_connected, graphs))\n",
    "print(len(connected_graphs))\n"
   ],
   "metadata": {
    "collapsed": false,
    "pycharm": {
     "name": "#%%\n"
    }
   }
  },
  {
   "cell_type": "code",
   "execution_count": 23,
   "metadata": {},
   "outputs": [],
   "source": [
    "from karateclub import FeatherGraph\n",
    "\n",
    "model = FeatherGraph()\n",
    "model.fit(graphs)\n",
    "X = model.get_embedding()"
   ]
  },
  {
   "cell_type": "code",
   "execution_count": 24,
   "metadata": {},
   "outputs": [
    {
     "data": {
      "text/plain": "array([[0.99994571, 0.99298369, 0.97443243, ..., 0.        , 0.        ,\n        0.        ],\n       [0.99994571, 0.99298369, 0.97443243, ..., 0.        , 0.        ,\n        0.        ],\n       [0.99994484, 0.99287198, 0.97402601, ..., 0.        , 0.        ,\n        0.        ],\n       ...,\n       [0.99994192, 0.99249498, 0.97265432, ..., 0.        , 0.        ,\n        0.        ],\n       [0.99994873, 0.99337465, 0.97585492, ..., 0.        , 0.        ,\n        0.        ],\n       [0.99994484, 0.99287198, 0.97402601, ..., 0.        , 0.        ,\n        0.        ]])"
     },
     "execution_count": 24,
     "metadata": {},
     "output_type": "execute_result"
    }
   ],
   "source": [
    "X"
   ]
  },
  {
   "cell_type": "markdown",
   "metadata": {},
   "source": [
    "Probebly a better representation"
   ]
  },
  {
   "cell_type": "code",
   "execution_count": 25,
   "metadata": {},
   "outputs": [],
   "source": [
    "from karateclub import Graph2Vec\n",
    "model = Graph2Vec(dimensions=10)\n",
    "model.fit(graphs)\n",
    "X = model.get_embedding()"
   ]
  },
  {
   "cell_type": "code",
   "execution_count": 26,
   "metadata": {},
   "outputs": [
    {
     "data": {
      "text/plain": "array([[-0.05689806, -0.08147454,  0.07162268, ..., -0.04527807,\n         0.03273629, -0.00165327],\n       [-0.02387063, -0.00881603, -0.00891049, ...,  0.01242553,\n         0.05427465, -0.05777711],\n       [-0.00456831, -0.04390918, -0.01685316, ...,  0.01146604,\n         0.04305845,  0.01203374],\n       ...,\n       [ 0.02944114, -0.09442605,  0.00117423, ..., -0.00481945,\n         0.05855107, -0.0732697 ],\n       [-0.01344212, -0.00022963,  0.0059538 , ...,  0.00392911,\n        -0.03048843, -0.0544934 ],\n       [ 0.01390203, -0.03381307,  0.03384782, ..., -0.03362345,\n        -0.02073043, -0.06135229]], dtype=float32)"
     },
     "execution_count": 26,
     "metadata": {},
     "output_type": "execute_result"
    }
   ],
   "source": [
    "X"
   ]
  },
  {
   "cell_type": "code",
   "execution_count": 27,
   "metadata": {},
   "outputs": [],
   "source": [
    "# Create CSV output for Ron DP"
   ]
  },
  {
   "cell_type": "code",
   "execution_count": null,
   "metadata": {},
   "outputs": [],
   "source": [
    "# connected_graphs_indices = [i for i in range(len(graphs)) if nx.is_connected(graphs[i])]"
   ]
  },
  {
   "cell_type": "code",
   "execution_count": 28,
   "outputs": [
    {
     "data": {
      "text/plain": "                        0         1         2         3         4         5  \\\nconversation_id                                                               \n0               -0.056898 -0.081475  0.071623  0.016880 -0.015101  0.025365   \n1               -0.023871 -0.008816 -0.008910 -0.025696 -0.023721  0.050015   \n2               -0.004568 -0.043909 -0.016853  0.061091  0.015644  0.051629   \n3               -0.058055 -0.076366  0.084920  0.078710 -0.108443  0.064545   \n4               -0.056303 -0.028320  0.082825  0.032530 -0.109185  0.048401   \n...                   ...       ...       ...       ...       ...       ...   \n5578             0.005759 -0.084160  0.012845  0.052387 -0.085612  0.104369   \n5579             0.017677 -0.015531  0.012192  0.073049 -0.055130  0.088318   \n5580             0.029441 -0.094426  0.001174  0.097216 -0.098449  0.104239   \n5581            -0.013442 -0.000230  0.005954  0.054780 -0.076340  0.034089   \n5582             0.013902 -0.033813  0.033848  0.014576 -0.082415 -0.003488   \n\n                        6         7         8         9  \nconversation_id                                          \n0               -0.027020 -0.045278  0.032736 -0.001653  \n1                0.008028  0.012426  0.054275 -0.057777  \n2                0.047616  0.011466  0.043058  0.012034  \n3                0.050668 -0.032235 -0.022451 -0.049635  \n4                0.074119 -0.006580 -0.025981 -0.051455  \n...                   ...       ...       ...       ...  \n5578            -0.019359 -0.048649  0.054962 -0.064777  \n5579            -0.018050 -0.010689  0.037976 -0.033315  \n5580             0.062946 -0.004819  0.058551 -0.073270  \n5581             0.000143  0.003929 -0.030488 -0.054493  \n5582             0.028918 -0.033623 -0.020730 -0.061352  \n\n[5583 rows x 10 columns]",
      "text/html": "<div>\n<style scoped>\n    .dataframe tbody tr th:only-of-type {\n        vertical-align: middle;\n    }\n\n    .dataframe tbody tr th {\n        vertical-align: top;\n    }\n\n    .dataframe thead th {\n        text-align: right;\n    }\n</style>\n<table border=\"1\" class=\"dataframe\">\n  <thead>\n    <tr style=\"text-align: right;\">\n      <th></th>\n      <th>0</th>\n      <th>1</th>\n      <th>2</th>\n      <th>3</th>\n      <th>4</th>\n      <th>5</th>\n      <th>6</th>\n      <th>7</th>\n      <th>8</th>\n      <th>9</th>\n    </tr>\n    <tr>\n      <th>conversation_id</th>\n      <th></th>\n      <th></th>\n      <th></th>\n      <th></th>\n      <th></th>\n      <th></th>\n      <th></th>\n      <th></th>\n      <th></th>\n      <th></th>\n    </tr>\n  </thead>\n  <tbody>\n    <tr>\n      <th>0</th>\n      <td>-0.056898</td>\n      <td>-0.081475</td>\n      <td>0.071623</td>\n      <td>0.016880</td>\n      <td>-0.015101</td>\n      <td>0.025365</td>\n      <td>-0.027020</td>\n      <td>-0.045278</td>\n      <td>0.032736</td>\n      <td>-0.001653</td>\n    </tr>\n    <tr>\n      <th>1</th>\n      <td>-0.023871</td>\n      <td>-0.008816</td>\n      <td>-0.008910</td>\n      <td>-0.025696</td>\n      <td>-0.023721</td>\n      <td>0.050015</td>\n      <td>0.008028</td>\n      <td>0.012426</td>\n      <td>0.054275</td>\n      <td>-0.057777</td>\n    </tr>\n    <tr>\n      <th>2</th>\n      <td>-0.004568</td>\n      <td>-0.043909</td>\n      <td>-0.016853</td>\n      <td>0.061091</td>\n      <td>0.015644</td>\n      <td>0.051629</td>\n      <td>0.047616</td>\n      <td>0.011466</td>\n      <td>0.043058</td>\n      <td>0.012034</td>\n    </tr>\n    <tr>\n      <th>3</th>\n      <td>-0.058055</td>\n      <td>-0.076366</td>\n      <td>0.084920</td>\n      <td>0.078710</td>\n      <td>-0.108443</td>\n      <td>0.064545</td>\n      <td>0.050668</td>\n      <td>-0.032235</td>\n      <td>-0.022451</td>\n      <td>-0.049635</td>\n    </tr>\n    <tr>\n      <th>4</th>\n      <td>-0.056303</td>\n      <td>-0.028320</td>\n      <td>0.082825</td>\n      <td>0.032530</td>\n      <td>-0.109185</td>\n      <td>0.048401</td>\n      <td>0.074119</td>\n      <td>-0.006580</td>\n      <td>-0.025981</td>\n      <td>-0.051455</td>\n    </tr>\n    <tr>\n      <th>...</th>\n      <td>...</td>\n      <td>...</td>\n      <td>...</td>\n      <td>...</td>\n      <td>...</td>\n      <td>...</td>\n      <td>...</td>\n      <td>...</td>\n      <td>...</td>\n      <td>...</td>\n    </tr>\n    <tr>\n      <th>5578</th>\n      <td>0.005759</td>\n      <td>-0.084160</td>\n      <td>0.012845</td>\n      <td>0.052387</td>\n      <td>-0.085612</td>\n      <td>0.104369</td>\n      <td>-0.019359</td>\n      <td>-0.048649</td>\n      <td>0.054962</td>\n      <td>-0.064777</td>\n    </tr>\n    <tr>\n      <th>5579</th>\n      <td>0.017677</td>\n      <td>-0.015531</td>\n      <td>0.012192</td>\n      <td>0.073049</td>\n      <td>-0.055130</td>\n      <td>0.088318</td>\n      <td>-0.018050</td>\n      <td>-0.010689</td>\n      <td>0.037976</td>\n      <td>-0.033315</td>\n    </tr>\n    <tr>\n      <th>5580</th>\n      <td>0.029441</td>\n      <td>-0.094426</td>\n      <td>0.001174</td>\n      <td>0.097216</td>\n      <td>-0.098449</td>\n      <td>0.104239</td>\n      <td>0.062946</td>\n      <td>-0.004819</td>\n      <td>0.058551</td>\n      <td>-0.073270</td>\n    </tr>\n    <tr>\n      <th>5581</th>\n      <td>-0.013442</td>\n      <td>-0.000230</td>\n      <td>0.005954</td>\n      <td>0.054780</td>\n      <td>-0.076340</td>\n      <td>0.034089</td>\n      <td>0.000143</td>\n      <td>0.003929</td>\n      <td>-0.030488</td>\n      <td>-0.054493</td>\n    </tr>\n    <tr>\n      <th>5582</th>\n      <td>0.013902</td>\n      <td>-0.033813</td>\n      <td>0.033848</td>\n      <td>0.014576</td>\n      <td>-0.082415</td>\n      <td>-0.003488</td>\n      <td>0.028918</td>\n      <td>-0.033623</td>\n      <td>-0.020730</td>\n      <td>-0.061352</td>\n    </tr>\n  </tbody>\n</table>\n<p>5583 rows × 10 columns</p>\n</div>"
     },
     "execution_count": 28,
     "metadata": {},
     "output_type": "execute_result"
    }
   ],
   "source": [
    "graphs_indices = list(range(len(graphs)))\n",
    "out = pd.DataFrame(X).assign(conversation_id = graphs_indices).set_index('conversation_id')\n",
    "out"
   ],
   "metadata": {
    "collapsed": false,
    "pycharm": {
     "name": "#%%\n"
    }
   }
  },
  {
   "cell_type": "code",
   "execution_count": 29,
   "metadata": {},
   "outputs": [],
   "source": [
    "out.to_csv('cmv_embedding_10.csv', sep= ' ')"
   ]
  },
  {
   "cell_type": "code",
   "execution_count": null,
   "metadata": {},
   "outputs": [],
   "source": []
  },
  {
   "cell_type": "code",
   "execution_count": null,
   "metadata": {},
   "outputs": [],
   "source": []
  },
  {
   "cell_type": "code",
   "execution_count": null,
   "metadata": {},
   "outputs": [],
   "source": []
  },
  {
   "cell_type": "markdown",
   "metadata": {},
   "source": [
    "Enjoy!"
   ]
  }
 ],
 "metadata": {
  "kernelspec": {
   "name": "python3",
   "language": "python",
   "display_name": "Python 3"
  },
  "language_info": {
   "codemirror_mode": {
    "name": "ipython",
    "version": 3
   },
   "file_extension": ".py",
   "mimetype": "text/x-python",
   "name": "python",
   "nbconvert_exporter": "python",
   "pygments_lexer": "ipython3",
   "version": "3.7.6"
  },
  "toc": {
   "base_numbering": 1,
   "nav_menu": {},
   "number_sections": true,
   "sideBar": true,
   "skip_h1_title": false,
   "title_cell": "Table of Contents",
   "title_sidebar": "Contents",
   "toc_cell": false,
   "toc_position": {},
   "toc_section_display": true,
   "toc_window_display": true
  }
 },
 "nbformat": 4,
 "nbformat_minor": 4
}