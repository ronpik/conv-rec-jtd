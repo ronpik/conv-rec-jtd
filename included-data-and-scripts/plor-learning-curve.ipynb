{
 "cells": [
  {
   "cell_type": "code",
   "execution_count": 13,
   "outputs": [],
   "source": [
    "import pandas as pd\n",
    "from matplotlib import pyplot as plt\n",
    "%matplotlib inline"
   ],
   "metadata": {
    "collapsed": false,
    "pycharm": {
     "name": "#%%\n"
    }
   }
  },
  {
   "cell_type": "markdown",
   "source": [
    "# Loading The Learning Steps\n",
    "By running the model, and output file with the suffix \"learning.out\" is written.<br>\n",
    "The file contains at each line `i` the mAP values according to the `i` iteration during training.\n",
    "Each line contains the mAP of the train, valid, and test sets, respectively. All values are separated by a TAB, Hence, this is a tsv file"
   ],
   "metadata": {
    "collapsed": false,
    "pycharm": {
     "name": "#%% md\n"
    }
   }
  },
  {
   "cell_type": "code",
   "execution_count": 18,
   "outputs": [
    {
     "data": {
      "text/plain": "    train   valid    test\n0  0.0100  0.0674  0.0670\n1  0.0277  0.0962  0.0927\n2  0.1287  0.1940  0.1935\n3  0.2656  0.3339  0.3366\n4  0.3668  0.4041  0.4153",
      "text/html": "<div>\n<style scoped>\n    .dataframe tbody tr th:only-of-type {\n        vertical-align: middle;\n    }\n\n    .dataframe tbody tr th {\n        vertical-align: top;\n    }\n\n    .dataframe thead th {\n        text-align: right;\n    }\n</style>\n<table border=\"1\" class=\"dataframe\">\n  <thead>\n    <tr style=\"text-align: right;\">\n      <th></th>\n      <th>train</th>\n      <th>valid</th>\n      <th>test</th>\n    </tr>\n  </thead>\n  <tbody>\n    <tr>\n      <th>0</th>\n      <td>0.0100</td>\n      <td>0.0674</td>\n      <td>0.0670</td>\n    </tr>\n    <tr>\n      <th>1</th>\n      <td>0.0277</td>\n      <td>0.0962</td>\n      <td>0.0927</td>\n    </tr>\n    <tr>\n      <th>2</th>\n      <td>0.1287</td>\n      <td>0.1940</td>\n      <td>0.1935</td>\n    </tr>\n    <tr>\n      <th>3</th>\n      <td>0.2656</td>\n      <td>0.3339</td>\n      <td>0.3366</td>\n    </tr>\n    <tr>\n      <th>4</th>\n      <td>0.3668</td>\n      <td>0.4041</td>\n      <td>0.4153</td>\n    </tr>\n  </tbody>\n</table>\n</div>"
     },
     "execution_count": 18,
     "metadata": {},
     "output_type": "execute_result"
    }
   ],
   "source": [
    "path = \"example_learning.out\"\n",
    "df = pd.read_csv(path, sep='\\t', header=None, names=[\"train\", \"valid\", \"test\"])\n",
    "df.head()"
   ],
   "metadata": {
    "collapsed": false,
    "pycharm": {
     "name": "#%%\n"
    }
   }
  },
  {
   "cell_type": "code",
   "execution_count": 20,
   "outputs": [
    {
     "data": {
      "text/plain": "<matplotlib.axes._subplots.AxesSubplot at 0x1c1a2069088>"
     },
     "execution_count": 20,
     "metadata": {},
     "output_type": "execute_result"
    },
    {
     "data": {
      "text/plain": "<Figure size 432x288 with 1 Axes>",
      "image/png": "[encoded data removed]"
     },
     "metadata": {
      "needs_background": "light"
     },
     "output_type": "display_data"
    }
   ],
   "source": [
    "styles=['-', '-.', ':']\n",
    "df.plot(style=styles, ylim=(-0.1, 1.0))\n",
    "\n",
    "\n"
   ],
   "metadata": {
    "collapsed": false,
    "pycharm": {
     "name": "#%%\n"
    }
   }
  },
  {
   "cell_type": "code",
   "execution_count": null,
   "outputs": [],
   "source": [
    "\n"
   ],
   "metadata": {
    "collapsed": false,
    "pycharm": {
     "name": "#%%\n"
    }
   }
  }
 ],
 "metadata": {
  "kernelspec": {
   "display_name": "Python 3",
   "language": "python",
   "name": "python3"
  },
  "language_info": {
   "codemirror_mode": {
    "name": "ipython",
    "version": 2
   },
   "file_extension": ".py",
   "mimetype": "text/x-python",
   "name": "python",
   "nbconvert_exporter": "python",
   "pygments_lexer": "ipython2",
   "version": "2.7.6"
  }
 },
 "nbformat": 4,
 "nbformat_minor": 0
}